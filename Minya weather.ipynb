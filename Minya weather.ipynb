{
 "cells": [
  {
   "cell_type": "code",
   "execution_count": null,
   "metadata": {},
   "outputs": [
    {
     "name": "stdout",
     "output_type": "stream",
     "text": [
      "16:00\n",
      "23\n"
     ]
    }
   ],
   "source": [
    "import requests \n",
    "from bs4 import BeautifulSoup\n",
    "from datetime import datetime\n",
    "import time #libraries \n",
    "while True:\n",
    "    url = 'https://www.meteoblue.com/ar/weather/current/%d8%a7%d9%84%d9%85%d9%86%d9%8a%d8%a7_%d9%85%d8%b5%d8%b1_360686'\n",
    "    response = requests.request('GET', url) #used while loop to make this programme working till inifinte\n",
    "#This is an request to make my python integrate Html\n",
    "    soup = BeautifulSoup(response.text, 'html.parser') # \n",
    "#to make my python understand what did I have written\n",
    "    data = soup.find_all('div', attrs={'class':'col-12 wide-content'})\n",
    "#here I am indexing in html to to get data indexing to reach my results\n",
    "    data_a = data[0].find('div').text\n",
    "#here i have slicing to index more and more\n",
    "    nu = data_a.split()\n",
    "    Time = nu[0] #my first element\n",
    "    Degree=nu[1]#my seconed element\n",
    "    print(Time) \n",
    "    print(Degree)\n",
    "    f = open('weather.txt','a') #use text to append every result in\n",
    "    now = datetime.now() #to create a data by today\n",
    "    time_now = now.strftime(\"%d/%m/%Y\") #this is format to get 1 - 1 - 2021\n",
    "    output = 'Time= '+Time+','+'Degree= '+Degree+', at '+time_now+'\\n\\n' #format result\n",
    "    f.write(output) # writing every line on text\n",
    "    f.close() \n",
    "    time.sleep(3600) #time interval\n",
    "\n",
    "    \n"
   ]
  },
  {
   "cell_type": "code",
   "execution_count": null,
   "metadata": {},
   "outputs": [],
   "source": []
  },
  {
   "cell_type": "code",
   "execution_count": null,
   "metadata": {},
   "outputs": [],
   "source": []
  }
 ],
 "metadata": {
  "kernelspec": {
   "display_name": "Python 3",
   "language": "python",
   "name": "python3"
  },
  "language_info": {
   "codemirror_mode": {
    "name": "ipython",
    "version": 3
   },
   "file_extension": ".py",
   "mimetype": "text/x-python",
   "name": "python",
   "nbconvert_exporter": "python",
   "pygments_lexer": "ipython3",
   "version": "3.8.5"
  }
 },
 "nbformat": 4,
 "nbformat_minor": 4
}
